{
  "cells": [
    {
      "cell_type": "code",
      "execution_count": null,
      "metadata": {
        "colab": {
          "base_uri": "https://localhost:8080/"
        },
        "id": "nw-TS7ySYbEd",
        "outputId": "9f22018a-1f0b-4315-af41-ecf36a2d9150"
      },
      "outputs": [],
      "source": [
        "# Install the required packages\n",
        "!pip install -r requirements.txt"
      ]
    },
    {
      "cell_type": "markdown",
      "metadata": {
        "id": "4i7qmxIFQw6M"
      },
      "source": [
        "# Check results without any finetuning"
      ]
    },
    {
      "cell_type": "code",
      "execution_count": null,
      "metadata": {
        "colab": {
          "base_uri": "https://localhost:8080/"
        },
        "id": "_aKpWCzHLHwg",
        "outputId": "7d4b6681-11db-4d9d-a0e6-6868cdb9d0bb"
      },
      "outputs": [],
      "source": [
        "!python generate.py --init_from=\"gpt2-medium\""
      ]
    },
    {
      "cell_type": "markdown",
      "metadata": {
        "id": "T1LPI2bSQw6M"
      },
      "source": [
        "# Default LoRA run with rank = 128, alpha = 512"
      ]
    },
    {
      "cell_type": "code",
      "execution_count": null,
      "metadata": {
        "colab": {
          "base_uri": "https://localhost:8080/"
        },
        "id": "OndAfEQSbctC",
        "outputId": "5dee0404-4689-4ede-d936-eae78c16eb56"
      },
      "outputs": [],
      "source": [
        "!python train.py --init_from=\"gpt2-medium\" --out_dir=\"gpt-default-lora\""
      ]
    },
    {
      "cell_type": "markdown",
      "metadata": {
        "id": "4cGeSYLsQw6M"
      },
      "source": [
        "# LoRA with rank = 16, alpha = 64"
      ]
    },
    {
      "cell_type": "code",
      "execution_count": null,
      "metadata": {
        "colab": {
          "base_uri": "https://localhost:8080/"
        },
        "id": "73Ydq2uufIJw",
        "outputId": "b3df5485-4254-45b2-805c-6bbeae5602d3"
      },
      "outputs": [],
      "source": [
        "!python train.py --init_from=\"gpt2-medium\" --out_dir=\"gpt-r16_a64-lora\" --lora_rank=16 --lora_alpha=64"
      ]
    },
    {
      "cell_type": "markdown",
      "metadata": {
        "id": "26QOyuEyQw6N"
      },
      "source": [
        "# LoRA with rank = 16, alpha = 256"
      ]
    },
    {
      "cell_type": "code",
      "execution_count": null,
      "metadata": {
        "colab": {
          "base_uri": "https://localhost:8080/"
        },
        "id": "8O6dICFrQw6N",
        "outputId": "a650b00b-beef-4c88-8eb3-1d2b35747b4c"
      },
      "outputs": [],
      "source": [
        "!python train.py --init_from=\"gpt2-medium\" --out_dir=\"gpt-r16_a256-lora\" --lora_rank=16 --lora_alpha=256"
      ]
    },
    {
      "cell_type": "markdown",
      "metadata": {
        "id": "HK_G-XxqQw6N"
      },
      "source": [
        "# LoRA with rank = 196, alpha = 784"
      ]
    },
    {
      "cell_type": "code",
      "execution_count": null,
      "metadata": {
        "colab": {
          "base_uri": "https://localhost:8080/"
        },
        "id": "1jwaxUhtQw6N",
        "outputId": "09ac1705-f6dc-4efa-b753-2752319d00b6"
      },
      "outputs": [],
      "source": [
        "!python train.py --init_from=\"gpt2-medium\" --out_dir=\"gpt-r196_a784-lora\" --lora_rank=196 --lora_alpha=784"
      ]
    },
    {
      "cell_type": "markdown",
      "metadata": {
        "id": "SYznD50eQw6N"
      },
      "source": [
        "# Full Finetuning with Dropout of 0.05"
      ]
    },
    {
      "cell_type": "code",
      "execution_count": null,
      "metadata": {
        "colab": {
          "base_uri": "https://localhost:8080/"
        },
        "id": "pfNWL6NkQw6N",
        "outputId": "23da2a99-d3f2-45fd-d892-bb41bacee964"
      },
      "outputs": [],
      "source": [
        "!python train.py --init_from=\"gpt2-medium\" --out_dir=\"gpt-r0-lora-d.05\" --lora_rank=0 --dropout=.05"
      ]
    }
  ],
  "metadata": {
    "accelerator": "GPU",
    "colab": {
      "gpuType": "T4",
      "provenance": []
    },
    "kernelspec": {
      "display_name": "Python 3",
      "name": "python3"
    },
    "language_info": {
      "name": "python"
    }
  },
  "nbformat": 4,
  "nbformat_minor": 0
}
